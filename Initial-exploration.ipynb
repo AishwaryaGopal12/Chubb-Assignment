{
 "cells": [
  {
   "cell_type": "code",
   "execution_count": 490,
   "id": "1db9f22f",
   "metadata": {},
   "outputs": [],
   "source": [
    "import pandas as pd\n",
    "import re\n",
    "import datetime\n",
    "import numpy as np\n",
    "from dateutil.relativedelta import relativedelta\n",
    "from datetime import date\n",
    "from sklearn.linear_model import Ridge\n",
    "from sklearn.model_selection import train_test_split, cross_val_score, cross_validate\n",
    "from sklearn.preprocessing import StandardScaler, OrdinalEncoder, OneHotEncoder\n",
    "from sklearn.pipeline import Pipeline, make_pipeline\n",
    "from sklearn.compose import ColumnTransformer, make_column_transformer, TransformedTargetRegressor\n",
    "from sklearn.metrics import mean_squared_error, r2_score, make_scorer\n",
    "from sklearn.linear_model import PoissonRegressor"
   ]
  },
  {
   "cell_type": "code",
   "execution_count": 444,
   "id": "8953902b",
   "metadata": {},
   "outputs": [],
   "source": [
    "claims = pd.read_parquet(\"claims.parquet\")"
   ]
  },
  {
   "cell_type": "code",
   "execution_count": 448,
   "id": "18ce665c",
   "metadata": {},
   "outputs": [],
   "source": [
    "policies = pd.read_excel(\"policies.xlsx\",engine = \"openpyxl\")"
   ]
  },
  {
   "cell_type": "code",
   "execution_count": 451,
   "id": "4e13e14f",
   "metadata": {},
   "outputs": [
    {
     "name": "stdout",
     "output_type": "stream",
     "text": [
      "Requirement already satisfied: openpyxl in /opt/miniconda3/lib/python3.8/site-packages (3.0.9)\n",
      "Requirement already satisfied: et-xmlfile in /opt/miniconda3/lib/python3.8/site-packages (from openpyxl) (1.1.0)\n",
      "Note: you may need to restart the kernel to use updated packages.\n"
     ]
    }
   ],
   "source": [
    "pip install openpyxl"
   ]
  },
  {
   "cell_type": "code",
   "execution_count": 452,
   "id": "fc757733",
   "metadata": {},
   "outputs": [
    {
     "data": {
      "text/plain": [
       "f976a747    4\n",
       "1edad92c    4\n",
       "206daa37    4\n",
       "03d18350    4\n",
       "bd8d5692    4\n",
       "           ..\n",
       "c0c31cc6    1\n",
       "66e20e0c    1\n",
       "5df4372c    1\n",
       "5d3eca51    1\n",
       "7908e09d    1\n",
       "Name: pol, Length: 1000, dtype: int64"
      ]
     },
     "execution_count": 452,
     "metadata": {},
     "output_type": "execute_result"
    }
   ],
   "source": [
    "policies['pol'].value_counts()"
   ]
  },
  {
   "cell_type": "code",
   "execution_count": 496,
   "id": "326324f1",
   "metadata": {},
   "outputs": [],
   "source": [
    "def read_files(parquet_file, csv_file, xlsx_file):\n",
    "    claims = pd.read_parquet(parquet_file)\n",
    "    policies = pd.read_excel(xlsx_file, engine = \"openpyxl\")\n",
    "    properties = pd.read_csv(csv_file)\n",
    "    claims_clean = date_process(claims, \"start_date\")\n",
    "    policies_start_clean = date_process(policies, \"start\")\n",
    "    policies_clean = date_process(policies_start_clean, \"end\")\n",
    "    final_data = data_process(claims_clean, policies_clean, properties)\n",
    "    return final_data"
   ]
  },
  {
   "cell_type": "code",
   "execution_count": 497,
   "id": "dc824f99",
   "metadata": {},
   "outputs": [],
   "source": [
    "def date_process(df, column):\n",
    "    df1 = df[column].str.extract('(?P<day>\\d+)(?P<month>[A-Za-z]{3})(?P<year>.*)')\n",
    "    df1['year'].replace(regex=True, inplace=True, to_replace=r'[^0-9]', value=r'')\n",
    "    df2 = pd.concat([df, df1], axis=1)\n",
    "    df2.drop(column, axis = 1, inplace = True)\n",
    "    df2[column] = pd.to_datetime(df2['year'].astype(str)  + df2['month'] + df2['day'].astype(str), format='%Y%b%d', errors = 'coerce')\n",
    "    df2.drop(['day', 'month', 'year'], axis = 1, inplace = True)\n",
    "    return df2"
   ]
  },
  {
   "cell_type": "code",
   "execution_count": 498,
   "id": "5f1f3231",
   "metadata": {},
   "outputs": [],
   "source": [
    "def data_process(claims, policies, properties):\n",
    "    claims.dropna(inplace = True)\n",
    "    policies.dropna(inplace = True)\n",
    "    policies['duration'] = policies['end'] - policies['start']\n",
    "    policies['duration'] = (policies['duration']/ datetime.timedelta(days = 365)).astype(int)\n",
    "    claims_grouped = claims.groupby(['property', 'pol', 'start_date']).count().reset_index()\n",
    "    interim_result = pd.merge(claims_grouped, properties, left_on = \"property\", right_on = \"prop_id\", how = \"inner\")\n",
    "    interim_result.drop(['pol_x', 'property'], inplace = True, axis = 1)\n",
    "    interim_result.rename(columns = {'pol_y': 'pol', 'amount': 'claims'}, inplace = True)\n",
    "    result = pd.merge(interim_result, policies, left_on = ['pol', 'start_date'], right_on = ['pol', 'start'], how = \"inner\")\n",
    "    result.drop(['end', 'start', 'prop_id', 'start_date', 'pol'], inplace = True, axis = 1)\n",
    "    result['exposure'] = (result['sqft']/1000) * result['duration']\n",
    "    result['claim_frequency'] = result['claims']/result['exposure']\n",
    "    return result"
   ]
  },
  {
   "cell_type": "code",
   "execution_count": 499,
   "id": "cf4072f3",
   "metadata": {},
   "outputs": [],
   "source": [
    "result_final = read_files(\"claims.parquet\", \"properties.csv\", \"policies.xlsx\")"
   ]
  },
  {
   "cell_type": "code",
   "execution_count": 505,
   "id": "dbeea516",
   "metadata": {},
   "outputs": [],
   "source": [
    "df_train, df_test = train_test_split(result_final, test_size=0.2, random_state=0)"
   ]
  },
  {
   "cell_type": "code",
   "execution_count": 506,
   "id": "17027155",
   "metadata": {},
   "outputs": [],
   "source": [
    "numeric_transformer = Pipeline(\n",
    "    steps = [\n",
    "        (\"scaler\", StandardScaler())\n",
    "    ]\n",
    ")\n",
    "\n",
    "categorical_transformer = Pipeline(\n",
    "    steps=[\n",
    "        (\"onehot\", OneHotEncoder(handle_unknown=\"ignore\")),\n",
    "    ]\n",
    ")\n",
    "\n",
    "preprocessor = ColumnTransformer(\n",
    "    transformers=[\n",
    "        (\"num\", numeric_transformer, ['sqft', 'age', 'exposure', 'claims']),\n",
    "        (\"cat\", categorical_transformer, ['state']),\n",
    "    ]\n",
    ")\n",
    "\n",
    "pipe = Pipeline(\n",
    "    steps=[\n",
    "        (\"preprocessor\", preprocessor),\n",
    "        (\"regressor\", Ridge(alpha = 1e-6)),\n",
    "    ]\n",
    ")"
   ]
  },
  {
   "cell_type": "code",
   "execution_count": 529,
   "id": "b4bd1d0d",
   "metadata": {},
   "outputs": [],
   "source": [
    "X_train = df_train.drop(columns = ['claim_frequency'])\n",
    "y_train = df_train['claim_frequency']\n",
    "\n",
    "X_test = df_test.drop(columns = ['claim_frequency'])\n",
    "y_test = df_test['claim_frequency']"
   ]
  },
  {
   "cell_type": "code",
   "execution_count": 509,
   "id": "57a424a5",
   "metadata": {},
   "outputs": [
    {
     "data": {
      "text/html": [
       "<div>\n",
       "<style scoped>\n",
       "    .dataframe tbody tr th:only-of-type {\n",
       "        vertical-align: middle;\n",
       "    }\n",
       "\n",
       "    .dataframe tbody tr th {\n",
       "        vertical-align: top;\n",
       "    }\n",
       "\n",
       "    .dataframe thead th {\n",
       "        text-align: right;\n",
       "    }\n",
       "</style>\n",
       "<table border=\"1\" class=\"dataframe\">\n",
       "  <thead>\n",
       "    <tr style=\"text-align: right;\">\n",
       "      <th></th>\n",
       "      <th>fit_time</th>\n",
       "      <th>score_time</th>\n",
       "      <th>test_neg_mean_absolute_error</th>\n",
       "      <th>train_neg_mean_absolute_error</th>\n",
       "    </tr>\n",
       "  </thead>\n",
       "  <tbody>\n",
       "    <tr>\n",
       "      <th>0</th>\n",
       "      <td>0.026948</td>\n",
       "      <td>0.021511</td>\n",
       "      <td>-0.108987</td>\n",
       "      <td>-0.118300</td>\n",
       "    </tr>\n",
       "    <tr>\n",
       "      <th>1</th>\n",
       "      <td>0.028242</td>\n",
       "      <td>0.009153</td>\n",
       "      <td>-0.120165</td>\n",
       "      <td>-0.111731</td>\n",
       "    </tr>\n",
       "    <tr>\n",
       "      <th>2</th>\n",
       "      <td>0.022598</td>\n",
       "      <td>0.008371</td>\n",
       "      <td>-0.114362</td>\n",
       "      <td>-0.116266</td>\n",
       "    </tr>\n",
       "    <tr>\n",
       "      <th>3</th>\n",
       "      <td>0.023083</td>\n",
       "      <td>0.008475</td>\n",
       "      <td>-0.115167</td>\n",
       "      <td>-0.116023</td>\n",
       "    </tr>\n",
       "    <tr>\n",
       "      <th>4</th>\n",
       "      <td>0.022605</td>\n",
       "      <td>0.008435</td>\n",
       "      <td>-0.116796</td>\n",
       "      <td>-0.112906</td>\n",
       "    </tr>\n",
       "  </tbody>\n",
       "</table>\n",
       "</div>"
      ],
      "text/plain": [
       "   fit_time  score_time  test_neg_mean_absolute_error  \\\n",
       "0  0.026948    0.021511                     -0.108987   \n",
       "1  0.028242    0.009153                     -0.120165   \n",
       "2  0.022598    0.008371                     -0.114362   \n",
       "3  0.023083    0.008475                     -0.115167   \n",
       "4  0.022605    0.008435                     -0.116796   \n",
       "\n",
       "   train_neg_mean_absolute_error  \n",
       "0                      -0.118300  \n",
       "1                      -0.111731  \n",
       "2                      -0.116266  \n",
       "3                      -0.116023  \n",
       "4                      -0.112906  "
      ]
     },
     "execution_count": 509,
     "metadata": {},
     "output_type": "execute_result"
    }
   ],
   "source": [
    "from sklearn.linear_model import Ridge\n",
    "\n",
    "pd.DataFrame(cross_validate(\n",
    "    pipe, X_train, y_train, return_train_score=True, \n",
    "    scoring=[\"neg_mean_absolute_error\"]\n",
    "))\n"
   ]
  },
  {
   "cell_type": "code",
   "execution_count": 515,
   "id": "7c3bd2fa",
   "metadata": {},
   "outputs": [],
   "source": [
    "preprocessor.fit(X_train)\n",
    "X_transformed = preprocessor.transform(X_train)"
   ]
  },
  {
   "cell_type": "code",
   "execution_count": 516,
   "id": "2c63994a",
   "metadata": {},
   "outputs": [
    {
     "name": "stderr",
     "output_type": "stream",
     "text": [
      "/opt/miniconda3/lib/python3.8/site-packages/statsmodels/genmod/generalized_linear_model.py:293: DomainWarning: The inverse_power link function does not respect the domain of the Gamma family.\n",
      "  warnings.warn((f\"The {type(family.link).__name__} link function \"\n"
     ]
    },
    {
     "name": "stdout",
     "output_type": "stream",
     "text": [
      "                 Generalized Linear Model Regression Results                  \n",
      "==============================================================================\n",
      "Dep. Variable:        claim_frequency   No. Observations:                14242\n",
      "Model:                            GLM   Df Residuals:                    14236\n",
      "Model Family:                   Gamma   Df Model:                            5\n",
      "Link Function:          inverse_power   Scale:                         0.34653\n",
      "Method:                          IRLS   Log-Likelihood:                 13370.\n",
      "Date:                Fri, 26 Nov 2021   Deviance:                       9768.7\n",
      "Time:                        05:02:16   Pearson chi2:                 4.93e+03\n",
      "No. Iterations:                    26                                         \n",
      "Covariance Type:            nonrobust                                         \n",
      "==============================================================================\n",
      "                 coef    std err          z      P>|z|      [0.025      0.975]\n",
      "------------------------------------------------------------------------------\n",
      "x1             3.2806      0.017    195.867      0.000       3.248       3.313\n",
      "x2            -0.4418      0.006    -79.607      0.000      -0.453      -0.431\n",
      "x3             3.2806      0.017    195.867      0.000       3.248       3.313\n",
      "x4            -1.6415      0.010   -164.187      0.000      -1.661      -1.622\n",
      "x5            12.2320      0.061    201.623      0.000      12.113      12.351\n",
      "x6            12.1338      0.061    198.768      0.000      12.014      12.253\n",
      "x7            12.2628      0.062    198.929      0.000      12.142      12.384\n",
      "==============================================================================\n"
     ]
    }
   ],
   "source": [
    "import statsmodels.api as sm\n",
    "\n",
    "gamma_model = sm.GLM(y_train, X_transformed, family=sm.families.Gamma())\n",
    "gamma_results = gamma_model.fit()\n",
    "print(gamma_results.summary())"
   ]
  },
  {
   "cell_type": "code",
   "execution_count": 530,
   "id": "489baf6c",
   "metadata": {},
   "outputs": [],
   "source": [
    "from sklearn.linear_model import PoissonRegressor\n",
    "\n",
    "pipe_1 = Pipeline(\n",
    "    steps = [\n",
    "        (\"preprocessor\", preprocessor),\n",
    "        (\"regressor\", PoissonRegressor(alpha=1e-6, max_iter=300)),\n",
    "    ]\n",
    ").fit(X_train, y_train, regressor__sample_weight = X_train['exposure'])"
   ]
  },
  {
   "cell_type": "code",
   "execution_count": 531,
   "id": "1a569255",
   "metadata": {},
   "outputs": [
    {
     "data": {
      "text/plain": [
       "array([0.14210745, 0.03227437, 0.19305008, ..., 0.24241986, 0.22168222,\n",
       "       0.08315073])"
      ]
     },
     "execution_count": 531,
     "metadata": {},
     "output_type": "execute_result"
    }
   ],
   "source": [
    "pipe_1.predict(X_test)"
   ]
  },
  {
   "cell_type": "code",
   "execution_count": null,
   "id": "95a93283",
   "metadata": {},
   "outputs": [],
   "source": []
  }
 ],
 "metadata": {
  "kernelspec": {
   "display_name": "Python 3",
   "language": "python",
   "name": "python3"
  },
  "language_info": {
   "codemirror_mode": {
    "name": "ipython",
    "version": 3
   },
   "file_extension": ".py",
   "mimetype": "text/x-python",
   "name": "python",
   "nbconvert_exporter": "python",
   "pygments_lexer": "ipython3",
   "version": "3.8.8"
  }
 },
 "nbformat": 4,
 "nbformat_minor": 5
}
